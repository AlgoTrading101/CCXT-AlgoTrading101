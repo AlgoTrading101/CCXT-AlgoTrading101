{
  "nbformat": 4,
  "nbformat_minor": 0,
  "metadata": {
    "colab": {
      "provenance": []
    },
    "kernelspec": {
      "name": "python3",
      "display_name": "Python 3"
    },
    "language_info": {
      "name": "python"
    }
  },
  "cells": [
    {
      "cell_type": "code",
      "execution_count": null,
      "metadata": {
        "id": "TuRQnwinZUT-"
      },
      "outputs": [],
      "source": [
        "!pip install ccxt"
      ]
    },
    {
      "cell_type": "code",
      "source": [
        "import ccxt"
      ],
      "metadata": {
        "id": "C2_orNdhZiEl"
      },
      "execution_count": null,
      "outputs": []
    },
    {
      "cell_type": "markdown",
      "source": [
        "## Obtain exchanges"
      ],
      "metadata": {
        "id": "UoPTb2afZYjP"
      }
    },
    {
      "cell_type": "code",
      "source": [
        "exchanges = ccxt.exchanges\n",
        "len(exchanges)"
      ],
      "metadata": {
        "colab": {
          "base_uri": "https://localhost:8080/"
        },
        "id": "A2cThsZgZX01",
        "outputId": "13e665b5-d7d6-4acc-e8d8-cfab738466fa"
      },
      "execution_count": null,
      "outputs": [
        {
          "output_type": "execute_result",
          "data": {
            "text/plain": [
              "108"
            ]
          },
          "metadata": {},
          "execution_count": 6
        }
      ]
    },
    {
      "cell_type": "code",
      "source": [
        "exchanges[:5]"
      ],
      "metadata": {
        "colab": {
          "base_uri": "https://localhost:8080/"
        },
        "id": "xlgq--6LZsFj",
        "outputId": "d723544e-e803-4184-e92a-e7bdf91227b9"
      },
      "execution_count": null,
      "outputs": [
        {
          "output_type": "execute_result",
          "data": {
            "text/plain": [
              "['ace', 'alpaca', 'ascendex', 'bequant', 'bigone']"
            ]
          },
          "metadata": {},
          "execution_count": 7
        }
      ]
    },
    {
      "cell_type": "markdown",
      "source": [
        "## Connect to an exchange"
      ],
      "metadata": {
        "id": "UMaBfd5xanvF"
      }
    },
    {
      "cell_type": "code",
      "source": [
        "binance = ccxt.binance()"
      ],
      "metadata": {
        "id": "eJSatDfrZwXQ"
      },
      "execution_count": null,
      "outputs": []
    },
    {
      "cell_type": "markdown",
      "source": [
        "## Obtain data"
      ],
      "metadata": {
        "id": "m09yJ9kfco0y"
      }
    },
    {
      "cell_type": "code",
      "source": [
        "kraken = ccxt.kraken()"
      ],
      "metadata": {
        "id": "FgyNCwy5arNd"
      },
      "execution_count": null,
      "outputs": []
    },
    {
      "cell_type": "code",
      "source": [
        "#btc_binance = binance.fetch_ohlcv('BTC/USDT','1d',limit=50)\n",
        "btc_kraken = kraken.fetch_ohlcv('BTC/USDT','1d',limit=50)"
      ],
      "metadata": {
        "id": "p16Jcphtcrrm"
      },
      "execution_count": null,
      "outputs": []
    },
    {
      "cell_type": "code",
      "source": [
        "btc_kraken[:3]"
      ],
      "metadata": {
        "colab": {
          "base_uri": "https://localhost:8080/"
        },
        "id": "Qf5EY9rBdJ4p",
        "outputId": "e2226849-bae1-498c-dc7c-a1840c6aaa1a"
      },
      "execution_count": null,
      "outputs": [
        {
          "output_type": "execute_result",
          "data": {
            "text/plain": [
              "[[1621036800000, 49832.7, 50640.3, 46608.9, 46705.9, 437.73057172],\n",
              " [1621123200000, 46751.3, 49760.0, 43850.2, 46394.1, 763.51353804],\n",
              " [1621209600000, 46417.5, 46606.2, 42100.0, 43552.3, 905.7982499]]"
            ]
          },
          "metadata": {},
          "execution_count": 16
        }
      ]
    },
    {
      "cell_type": "markdown",
      "source": [
        "## Pass API Keys"
      ],
      "metadata": {
        "id": "C0rB87vcLLK4"
      }
    },
    {
      "cell_type": "code",
      "source": [
        "exchange_id = 'binance'\n",
        "exchange_class = getattr(ccxt, exchange_id)\n",
        "binance = exchange_class({\n",
        "    'apiKey': 'YOUR_API_KEY',\n",
        "    'secret': 'YOUR_SECRET',\n",
        "})"
      ],
      "metadata": {
        "id": "Lmdc_dcmLPCb"
      },
      "execution_count": null,
      "outputs": []
    },
    {
      "cell_type": "markdown",
      "source": [
        "## Market Order"
      ],
      "metadata": {
        "id": "gJOhczAyIIBw"
      }
    },
    {
      "cell_type": "code",
      "source": [
        "order = kraken.create_order(\n",
        "    symbol=\"ETH/BTC\",\n",
        "    type=\"market\",\n",
        "    side=\"sell\",\n",
        "    amount=10\n",
        ")"
      ],
      "metadata": {
        "id": "usgioggJIP4Q"
      },
      "execution_count": null,
      "outputs": []
    },
    {
      "cell_type": "markdown",
      "source": [
        "## Limit Order"
      ],
      "metadata": {
        "id": "Bq_6IX3oIOku"
      }
    },
    {
      "cell_type": "code",
      "source": [
        "symbol = 'ETH/BTC'\n",
        "type = 'limit'\n",
        "side = 'sell'\n",
        "amount = 123.45\n",
        "price = 54.321\n",
        "params = {\n",
        "    'triggerPrice': 123.45,\n",
        "}\n",
        "\n",
        "order = kraken.create_order(symbol, type, side, amount, price, params)"
      ],
      "metadata": {
        "id": "hyNv7AYXdLfi"
      },
      "execution_count": null,
      "outputs": []
    },
    {
      "cell_type": "markdown",
      "source": [
        "## Set Sandbox"
      ],
      "metadata": {
        "id": "ZV_G_vouLISd"
      }
    },
    {
      "cell_type": "code",
      "source": [
        "binance = ccxt.binance()\n",
        "binance.set_sandbox_mode(True)"
      ],
      "metadata": {
        "id": "QcaJQLx7KGE5"
      },
      "execution_count": null,
      "outputs": []
    },
    {
      "cell_type": "markdown",
      "source": [
        "## Trade Example"
      ],
      "metadata": {
        "id": "-EC7qTXRNRJ7"
      }
    },
    {
      "cell_type": "code",
      "source": [
        "from time import sleep"
      ],
      "metadata": {
        "id": "4LofZaRz8_kn"
      },
      "execution_count": null,
      "outputs": []
    },
    {
      "cell_type": "code",
      "source": [
        "exchange_id = 'kraken'\n",
        "exchange_class = getattr(ccxt, exchange_id)\n",
        "kraken = exchange_class({\n",
        "    'apiKey': 'YOUR_API_KEY',\n",
        "    'secret': 'YOUR_SECRET',\n",
        "})"
      ],
      "metadata": {
        "id": "mWaXMhfi9GZP"
      },
      "execution_count": null,
      "outputs": []
    },
    {
      "cell_type": "code",
      "source": [
        "while True:\n",
        "    try:\n",
        "        orderbook = binance.fetch_order_book(\"BTC/USDT\")\n",
        "    except Exception as e:\n",
        "        print(f\"Unable to fetch orderbook from Binance: {e}\")\n",
        "    ask_old = orderbook[\"asks\"][0][0] if len(orderbook[\"asks\"]) > 0 else None\n",
        "\n",
        "    sleep(300)\n",
        "\n",
        "    try:\n",
        "        orderbook = binance.fetch_order_book(\"BTC/USDT\")\n",
        "    except Exception as e:\n",
        "        print(f\"Unable to fetch orderbook from Binance: {e}\")\n",
        "    ask_new = orderbook[\"asks\"][0][0] if len(orderbook[\"asks\"]) > 0 else None\n",
        "\n",
        "    percentage_change = ((ask_new - ask_old) / ask_old) * 100\n",
        "    print(f\"BTC has moved {percentage_change} percent in the last 5 minutes\")\n",
        "\n",
        "    if percentage_change >= 5:\n",
        "        print(\"Buying BTC on Kraken\")\n",
        "        kraken_orderbook = kraken.fetch_order_book(\"BTC/USDT\")\n",
        "        kraken_ask = (\n",
        "            kraken_orderbook[\"asks\"][0][0]\n",
        "            if len(kraken_orderbook[\"asks\"]) > 0\n",
        "            else None\n",
        "        )\n",
        "        try:\n",
        "            order = kraken.create_order(\n",
        "                symbol=\"BTC/USDT\",\n",
        "                type=\"limit\",\n",
        "                side=\"buy\",\n",
        "                amount=20,\n",
        "                price=kraken_ask + 1,\n",
        "            )\n",
        "        except Exception as e:\n",
        "            print(f\"Unable to place order on Kraken: {e}\")\n",
        "            break\n",
        "\n",
        "        print(order)\n",
        "        break"
      ],
      "metadata": {
        "id": "tQzDkzsgNTlw"
      },
      "execution_count": null,
      "outputs": []
    },
    {
      "cell_type": "markdown",
      "source": [
        "## Arbitrage Screener Example"
      ],
      "metadata": {
        "id": "ae1GxO2PNUAA"
      }
    },
    {
      "cell_type": "code",
      "source": [
        "exchanges = [\"binance\", \"kraken\", \"bitfinex\"]\n",
        "symbols = [\"BTC/USDT\", \"ETH/USDT\", \"ETH/BTC\"]\n",
        "\n",
        "for exchange_id in exchanges:\n",
        "    exchange = getattr(ccxt, exchange_id)()\n",
        "    markets = exchange.load_markets()\n",
        "    for symbol in symbols:\n",
        "        if symbol not in exchange.symbols:\n",
        "            print(symbol, \"not found in\", exchange_id)"
      ],
      "metadata": {
        "id": "zBy95UVRNXp2"
      },
      "execution_count": null,
      "outputs": []
    },
    {
      "cell_type": "code",
      "source": [
        "from time import sleep"
      ],
      "metadata": {
        "id": "S2_8xMoJ75js"
      },
      "execution_count": null,
      "outputs": []
    },
    {
      "cell_type": "code",
      "source": [
        "def get_price(exchange_id, symbol):\n",
        "    exchange = getattr(ccxt, exchange_id)()\n",
        "    exchange.load_markets()\n",
        "    orderbook = exchange.fetch_order_book(symbol)\n",
        "    bid = orderbook[\"bids\"][0][0] if len(orderbook[\"bids\"]) > 0 else None\n",
        "    ask = orderbook[\"asks\"][0][0] if len(orderbook[\"asks\"]) > 0 else None\n",
        "    return bid, ask\n",
        "\n",
        "\n",
        "def check_price(exchange_id_1, exchange_id_2, symbol):\n",
        "    bid1, ask1 = get_price(exchange_id_1, symbol)\n",
        "    bid2, ask2 = get_price(exchange_id_2, symbol)\n",
        "    bid_diff = bid1 - bid2\n",
        "    ask_diff = ask1 - ask2\n",
        "\n",
        "    if bid_diff > 0.2 or ask_diff > 0.2:\n",
        "        print(\n",
        "            f\"=============================\\n\"\n",
        "            f\"ALERT {exchange_id_1} <> {exchange_id_2} | {symbol}\\n\"\n",
        "            f\"{exchange_id_1} bid: {bid1} | {exchange_id_2} bid: {bid2} | diff: {bid_diff}\\n\"\n",
        "            f\"{exchange_id_1} ask: {ask1} | {exchange_id_2} ask: {ask2} | diff: {ask_diff}\\n\"\n",
        "            f\"=============================\\n\"\n",
        "        )\n",
        "    else:\n",
        "        print(\n",
        "            f\"{exchange_id_1} <> {exchange_id_2} | {symbol} bid_diff: {bid_diff} - ask_diff: {ask_diff}\"\n",
        "        )\n",
        "\n",
        "\n",
        "while True:\n",
        "    for exchange_id_1 in exchanges:\n",
        "        for exchange_id_2 in exchanges:\n",
        "            if exchange_id_1 != exchange_id_2:\n",
        "                for symbol in symbols:\n",
        "                    check_price(exchange_id_1, exchange_id_2, symbol)\n",
        "    sleep(5)"
      ],
      "metadata": {
        "id": "Ts10Q5Ca79Bz"
      },
      "execution_count": null,
      "outputs": []
    }
  ]
}